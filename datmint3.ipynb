{
 "cells": [
  {
   "attachments": {},
   "cell_type": "markdown",
   "metadata": {},
   "source": [
    "STUDI KASUS PRAKTIKUM 3\n",
    "\n",
    "    1. Bagaimana kita dapat memprediksi jumlah total kasus COVID-19 di suatu lokasi berdasarkan fitur-fitur seperti jumlah kematian, jumlah yang sembuh, densitas populasi, dan tingkat fatalitas kasus? (supervised learning)\n",
    "\n",
    "    2. Bagaimana kita dapat mengelompokkan lokasi-lokasi di Indonesia berdasarkan jumlah total kasus, jumlah kematian, jumlah yang sembuh, dan densitas populasi menggunakan metode clustering seperti KMeans? (unsupervised learning)"
   ]
  },
  {
   "attachments": {},
   "cell_type": "markdown",
   "metadata": {},
   "source": [
    "IMPORT MODUL"
   ]
  },
  {
   "cell_type": "code",
   "execution_count": 5,
   "metadata": {},
   "outputs": [],
   "source": [
    "import pandas as pd\n",
    "import matplotlib.pyplot as plt\n",
    "import seaborn as sns\n",
    "from sklearn.model_selection import train_test_split\n",
    "from sklearn.linear_model import LinearRegression\n",
    "from sklearn.metrics import r2_score, mean_squared_error\n",
    "from sklearn.preprocessing import StandardScaler\n",
    "from sklearn.cluster import KMeans\n",
    "\n",
    "from sklearn.ensemble import RandomForestRegressor\n",
    "import streamlit as st\n",
    "import plotly.express as px\n",
    "\n",
    "from pyngrok import ngrok\n",
    "import os\n",
    "import time\n"
   ]
  },
  {
   "attachments": {},
   "cell_type": "markdown",
   "metadata": {},
   "source": [
    "LOAD DATASET"
   ]
  },
  {
   "cell_type": "code",
   "execution_count": 6,
   "metadata": {},
   "outputs": [
    {
     "name": "stdout",
     "output_type": "stream",
     "text": [
      "Index(['Date', 'Location ISO Code', 'Location', 'New Cases', 'New Deaths',\n",
      "       'New Recovered', 'New Active Cases', 'Total Cases', 'Total Deaths',\n",
      "       'Total Recovered', 'Total Active Cases', 'Location Level',\n",
      "       'City or Regency', 'Province', 'Country', 'Continent', 'Island',\n",
      "       'Time Zone', 'Special Status', 'Total Regencies', 'Total Cities',\n",
      "       'Total Districts', 'Total Urban Villages', 'Total Rural Villages',\n",
      "       'Area (km2)', 'Population', 'Population Density', 'Longitude',\n",
      "       'Latitude', 'New Cases per Million', 'Total Cases per Million',\n",
      "       'New Deaths per Million', 'Total Deaths per Million',\n",
      "       'Total Deaths per 100rb', 'Case Fatality Rate', 'Case Recovered Rate',\n",
      "       'Growth Factor of New Cases', 'Growth Factor of New Deaths'],\n",
      "      dtype='object')\n"
     ]
    }
   ],
   "source": [
    "\n",
    "df = pd.read_csv(\"covid_19_indonesia_time_series_all.csv\")\n",
    "print(df.columns)\n",
    "data = df[['Date', 'Location ISO Code', 'Location', 'Total Cases', 'Total Deaths', 'Total Recovered', 'Population Density']]\n",
    "\n",
    "\n",
    "data = data.dropna()"
   ]
  },
  {
   "attachments": {},
   "cell_type": "markdown",
   "metadata": {},
   "source": [
    "    1. Bagaimana kita dapat memprediksi jumlah total kasus COVID-19 di suatu lokasi berdasarkan fitur-fitur seperti jumlah kematian, jumlah yang sembuh, densitas populasi, dan tingkat fatalitas kasus? (supervised learning)"
   ]
  },
  {
   "cell_type": "code",
   "execution_count": 7,
   "metadata": {},
   "outputs": [
    {
     "name": "stdout",
     "output_type": "stream",
     "text": [
      "Supervised Learning - Prediksi Total Cases\n",
      "MSE: 1027562235.23\n",
      "R-squared: 0.94\n"
     ]
    }
   ],
   "source": [
    "df = df[['Location', 'Total Cases', 'Total Deaths', 'Total Recovered', 'Population Density']]\n",
    "df.dropna(inplace=True)\n",
    "\n",
    "df['Fatality Rate'] = df['Total Deaths'] / df['Total Cases']\n",
    "\n",
    "\n",
    "data_loc = df.groupby('Location').mean()\n",
    "\n",
    "features = ['Total Deaths', 'Total Recovered', 'Population Density', 'Fatality Rate']\n",
    "X = data_loc[features]\n",
    "y = data_loc['Total Cases']\n",
    "\n",
    "\n",
    "X_train, X_test, y_train, y_test = train_test_split(X, y, test_size=0.3, random_state=42)\n",
    "\n",
    "\n",
    "model = RandomForestRegressor(random_state=42)\n",
    "model.fit(X_train, y_train)\n",
    "\n",
    "\n",
    "y_pred = model.predict(X_test)\n",
    "\n",
    "\n",
    "mse = mean_squared_error(y_test, y_pred)\n",
    "r2 = r2_score(y_test, y_pred)\n",
    "\n",
    "print(f\"Supervised Learning - Prediksi Total Cases\")\n",
    "print(f\"MSE: {mse:.2f}\")\n",
    "print(f\"R-squared: {r2:.2f}\")"
   ]
  },
  {
   "attachments": {},
   "cell_type": "markdown",
   "metadata": {},
   "source": [
    "    2. Bagaimana kita dapat mengelompokkan lokasi-lokasi di Indonesia berdasarkan jumlah total kasus, jumlah kematian, jumlah yang sembuh, dan densitas populasi menggunakan metode clustering seperti KMeans? (unsupervised learning)"
   ]
  },
  {
   "cell_type": "code",
   "execution_count": 8,
   "metadata": {},
   "outputs": [
    {
     "name": "stdout",
     "output_type": "stream",
     "text": [
      "Unsupervised Learning - Hasil Clustering Wilayah:\n",
      "               Total Cases  Total Deaths  Total Recovered  Population Density  \\\n",
      "Location                                                                        \n",
      "Aceh          22082.057522   1085.080752     19784.528761               90.54   \n",
      "Bali          72086.640914   2195.159956     67546.262242              729.43   \n",
      "Banten       108872.312771   1543.959957    103163.648268             1109.64   \n",
      "Bengkulu      13734.685206    270.363737     12950.609566              100.38   \n",
      "DKI Jakarta  587519.964478   8259.145318    566710.544672            16334.31   \n",
      "\n",
      "             Cluster  \n",
      "Location              \n",
      "Aceh               0  \n",
      "Bali               0  \n",
      "Banten             0  \n",
      "Bengkulu           0  \n",
      "DKI Jakarta        2  \n"
     ]
    }
   ],
   "source": [
    "df = df[['Location', 'Total Cases', 'Total Deaths', 'Total Recovered', 'Population Density']]\n",
    "df.dropna(inplace=True)\n",
    "\n",
    "\n",
    "data_loc = df.groupby('Location').mean()\n",
    "features = ['Total Cases', 'Total Deaths', 'Total Recovered', 'Population Density']\n",
    "\n",
    "\n",
    "scaler = StandardScaler()\n",
    "X_scaled = scaler.fit_transform(data_loc[features])\n",
    "\n",
    "kmeans = KMeans(n_clusters=4, random_state=42)\n",
    "data_loc['Cluster'] = kmeans.fit_predict(X_scaled)\n",
    "\n",
    "print(\"Unsupervised Learning - Hasil Clustering Wilayah:\")\n",
    "print(data_loc[['Total Cases', 'Total Deaths', 'Total Recovered', 'Population Density', 'Cluster']].head())"
   ]
  },
  {
   "cell_type": "code",
   "execution_count": 9,
   "metadata": {},
   "outputs": [
    {
     "name": "stdout",
     "output_type": "stream",
     "text": [
      "Writing covid_dashboard.py\n"
     ]
    }
   ],
   "source": [
    "%%writefile covid_dashboard.py\n",
    "import streamlit as st\n",
    "import pandas as pd\n",
    "import matplotlib.pyplot as plt\n",
    "from sklearn.preprocessing import StandardScaler\n",
    "from sklearn.cluster import KMeans\n",
    "import plotly.express as px\n",
    "\n",
    "st.set_page_config(page_title=\"COVID-19 Clustering Dashboard\", layout=\"wide\")\n",
    "st.title(\"Clustering Dashboard COVID-19\")\n",
    "\n",
    "@st.cache_data\n",
    "def load_data():\n",
    "    df = pd.read_csv(\"covid_19_indonesia_time_series_all.csv\")\n",
    "    return df\n",
    "\n",
    "df = load_data()\n",
    "\n",
    "df = df[['Date', 'Location', 'Total Cases', 'Total Deaths', 'Total Recovered', 'Population Density']]\n",
    "df.dropna(inplace=True)\n",
    "\n",
    "unique_locations = df['Location'].unique()\n",
    "selected_location = st.sidebar.selectbox(\"Pilih Lokasi\", unique_locations)\n",
    "location_data = df[df['Location'] == selected_location]\n",
    "\n",
    "st.subheader(f\"Tren Kasus Harian di {selected_location}\")\n",
    "fig, ax = plt.subplots(figsize=(10,4))\n",
    "daily_cases = location_data.groupby(\"Date\").sum()['Total Cases']\n",
    "daily_cases.plot(ax=ax, color='red')\n",
    "ax.set_ylabel(\"Total Cases\")\n",
    "ax.set_xlabel(\"Date\")\n",
    "st.pyplot(fig)\n",
    "\n",
    "st.subheader(\"Hasil Clustering Wilayah\")\n",
    "cluster_features = df.groupby(\"Location\")[['Total Cases', 'Total Deaths', 'Total Recovered', 'Population Density']].mean()\n",
    "\n",
    "scaler = StandardScaler()\n",
    "scaled_features = scaler.fit_transform(cluster_features)\n",
    "\n",
    "kmeans = KMeans(n_clusters=4, random_state=42)\n",
    "clusters = kmeans.fit_predict(scaled_features)\n",
    "cluster_features['Cluster'] = clusters\n",
    "\n",
    "df_clustered = df.merge(cluster_features['Cluster'], on='Location')\n",
    "\n",
    "kordinat = pd.DataFrame({\n",
    "    'Location': [\n",
    "        'DKI Jakarta', 'Jawa Barat', 'Jawa Tengah', 'Jawa Timur',\n",
    "        'Bali', 'Sumatera Utara', 'Kalimantan Timur', 'Sulawesi Selatan'\n",
    "    ],\n",
    "    'lat': [\n",
    "        -6.2088, -6.9039, -7.1500, -7.2504,\n",
    "        -8.4095, 3.5952, 0.5383, -5.1477\n",
    "    ],\n",
    "    'lon': [\n",
    "        106.8456, 107.6186, 110.1403, 112.7688,\n",
    "        115.1889, 98.6722, 116.4194, 119.4327\n",
    "    ]\n",
    "})\n",
    "\n",
    "\n",
    "map_df = cluster_features.reset_index().merge(kordinat, on='Location')\n",
    "\n",
    "st.subheader(\"Peta Interaktif Clustering Wilayah\")\n",
    "fig_map = px.scatter_mapbox(\n",
    "    map_df,\n",
    "    lat=\"lat\", lon=\"lon\",\n",
    "    hover_name=\"Location\",\n",
    "    color=\"Cluster\",\n",
    "    size=\"Total Cases\",\n",
    "    zoom=4,\n",
    "    height=500,\n",
    "    mapbox_style=\"carto-positron\"\n",
    ")\n",
    "st.plotly_chart(fig_map, use_container_width=True)\n",
    "\n",
    "st.subheader(\"Ringkasan Risiko Wilayah Berdasarkan Cluster\")\n",
    "st.dataframe(cluster_features.sort_values(\"Cluster\"))"
   ]
  },
  {
   "cell_type": "code",
   "execution_count": 10,
   "metadata": {},
   "outputs": [
    {
     "name": "stdout",
     "output_type": "stream",
     "text": [
      "Downloading ngrok ...\r"
     ]
    },
    {
     "name": "stderr",
     "output_type": "stream",
     "text": [
      "'kill' is not recognized as an internal or external command,\n",
      "operable program or batch file.\n"
     ]
    },
    {
     "name": "stdout",
     "output_type": "stream",
     "text": [
      "                                                                                                    \r"
     ]
    },
    {
     "name": "stderr",
     "output_type": "stream",
     "text": [
      "t=2025-05-18T19:40:39+0700 lvl=eror msg=\"unable to evaluate ngrok agent binary path for symlinks\" obj=tunnels.session err=\"CreateFile C:\\\\Users\\\\akhda\\\\AppData\\\\Local\\\\ngrok: The system cannot find the file specified.\"\n",
      "t=2025-05-18T19:40:44+0700 lvl=warn msg=\"failed to check for update\" obj=updater err=\"Post \\\"https://update.equinox.io/check\\\": context deadline exceeded\"\n",
      "t=2025-05-18T19:40:49+0700 lvl=eror msg=\"failed to reconnect session\" obj=tunnels.session err=\"failed to dial ngrok server with address \\\"connect.ngrok-agent.com:443\\\": dial tcp: lookup connect.ngrok-agent.com: i/o timeout\"\n",
      "t=2025-05-18T19:40:49+0700 lvl=eror msg=\"failed to reconnect session\" obj=tunnels.session err=\"authentication failed: Usage of ngrok requires a verified account and authtoken.\\n\\nSign up for an account: https://dashboard.ngrok.com/signup\\nInstall your authtoken: https://dashboard.ngrok.com/get-started/your-authtoken\\r\\n\\r\\nERR_NGROK_4018\\r\\n\"\n",
      "t=2025-05-18T19:40:49+0700 lvl=eror msg=\"session closing\" obj=tunnels.session err=\"authentication failed: Usage of ngrok requires a verified account and authtoken.\\n\\nSign up for an account: https://dashboard.ngrok.com/signup\\nInstall your authtoken: https://dashboard.ngrok.com/get-started/your-authtoken\\r\\n\\r\\nERR_NGROK_4018\\r\\n\"\n",
      "t=2025-05-18T19:40:49+0700 lvl=eror msg=\"terminating with error\" obj=app err=\"authentication failed: Usage of ngrok requires a verified account and authtoken.\\n\\nSign up for an account: https://dashboard.ngrok.com/signup\\nInstall your authtoken: https://dashboard.ngrok.com/get-started/your-authtoken\\r\\n\\r\\nERR_NGROK_4018\\r\\n\"\n",
      "t=2025-05-18T19:40:49+0700 lvl=crit msg=\"command failed\" err=\"authentication failed: Usage of ngrok requires a verified account and authtoken.\\n\\nSign up for an account: https://dashboard.ngrok.com/signup\\nInstall your authtoken: https://dashboard.ngrok.com/get-started/your-authtoken\\r\\n\\r\\nERR_NGROK_4018\\r\\n\"\n"
     ]
    },
    {
     "ename": "PyngrokNgrokError",
     "evalue": "The ngrok process errored on start: authentication failed: Usage of ngrok requires a verified account and authtoken.\\n\\nSign up for an account: https://dashboard.ngrok.com/signup\\nInstall your authtoken: https://dashboard.ngrok.com/get-started/your-authtoken\\r\\n\\r\\nERR_NGROK_4018\\r\\n.",
     "output_type": "error",
     "traceback": [
      "\u001b[31m---------------------------------------------------------------------------\u001b[39m",
      "\u001b[31mPyngrokNgrokError\u001b[39m                         Traceback (most recent call last)",
      "\u001b[36mCell\u001b[39m\u001b[36m \u001b[39m\u001b[32mIn[10]\u001b[39m\u001b[32m, line 4\u001b[39m\n\u001b[32m      1\u001b[39m ngrok.kill()\n\u001b[32m      2\u001b[39m get_ipython().system(\u001b[33m\"\u001b[39m\u001b[33mkill $(ps aux | grep streamlit | awk \u001b[39m\u001b[33m'\u001b[39m\u001b[33m{\u001b[39m\u001b[33mprint $2}\u001b[39m\u001b[33m'\u001b[39m\u001b[33m) 2>/dev/null\u001b[39m\u001b[33m\"\u001b[39m)\n\u001b[32m----> \u001b[39m\u001b[32m4\u001b[39m public_url = \u001b[43mngrok\u001b[49m\u001b[43m.\u001b[49m\u001b[43mconnect\u001b[49m\u001b[43m(\u001b[49m\u001b[32;43m8888\u001b[39;49m\u001b[43m)\u001b[49m\n\u001b[32m      5\u001b[39m \u001b[38;5;28mprint\u001b[39m(\u001b[33mf\u001b[39m\u001b[33m\"\u001b[39m\u001b[33m🚀 Streamlit live di: \u001b[39m\u001b[38;5;132;01m{\u001b[39;00mpublic_url\u001b[38;5;132;01m}\u001b[39;00m\u001b[33m\"\u001b[39m)\n\u001b[32m      7\u001b[39m os.system(\u001b[33m\"\u001b[39m\u001b[33mnohup streamlit run covid_dashboard.py &\u001b[39m\u001b[33m\"\u001b[39m)\n",
      "\u001b[36mFile \u001b[39m\u001b[32m~\\AppData\\Local\\Packages\\PythonSoftwareFoundation.Python.3.11_qbz5n2kfra8p0\\LocalCache\\local-packages\\Python311\\site-packages\\pyngrok\\ngrok.py:385\u001b[39m, in \u001b[36mconnect\u001b[39m\u001b[34m(addr, proto, name, pyngrok_config, **options)\u001b[39m\n\u001b[32m    381\u001b[39m _upgrade_legacy_params(pyngrok_config, options)\n\u001b[32m    383\u001b[39m logger.info(\u001b[33mf\u001b[39m\u001b[33m\"\u001b[39m\u001b[33mOpening tunnel named: \u001b[39m\u001b[38;5;132;01m{\u001b[39;00mname\u001b[38;5;132;01m}\u001b[39;00m\u001b[33m\"\u001b[39m)\n\u001b[32m--> \u001b[39m\u001b[32m385\u001b[39m api_url = \u001b[43mget_ngrok_process\u001b[49m\u001b[43m(\u001b[49m\u001b[43mpyngrok_config\u001b[49m\u001b[43m)\u001b[49m.api_url\n\u001b[32m    387\u001b[39m logger.debug(\u001b[33mf\u001b[39m\u001b[33m\"\u001b[39m\u001b[33mCreating tunnel with options: \u001b[39m\u001b[38;5;132;01m{\u001b[39;00moptions\u001b[38;5;132;01m}\u001b[39;00m\u001b[33m\"\u001b[39m)\n\u001b[32m    389\u001b[39m tunnel = NgrokTunnel(api_request(\u001b[33mf\u001b[39m\u001b[33m\"\u001b[39m\u001b[38;5;132;01m{\u001b[39;00mapi_url\u001b[38;5;132;01m}\u001b[39;00m\u001b[33m/api/tunnels\u001b[39m\u001b[33m\"\u001b[39m, method=\u001b[33m\"\u001b[39m\u001b[33mPOST\u001b[39m\u001b[33m\"\u001b[39m, data=options,\n\u001b[32m    390\u001b[39m                                  timeout=pyngrok_config.request_timeout),\n\u001b[32m    391\u001b[39m                      pyngrok_config, api_url)\n",
      "\u001b[36mFile \u001b[39m\u001b[32m~\\AppData\\Local\\Packages\\PythonSoftwareFoundation.Python.3.11_qbz5n2kfra8p0\\LocalCache\\local-packages\\Python311\\site-packages\\pyngrok\\ngrok.py:203\u001b[39m, in \u001b[36mget_ngrok_process\u001b[39m\u001b[34m(pyngrok_config)\u001b[39m\n\u001b[32m    199\u001b[39m     pyngrok_config = conf.get_default()\n\u001b[32m    201\u001b[39m install_ngrok(pyngrok_config)\n\u001b[32m--> \u001b[39m\u001b[32m203\u001b[39m \u001b[38;5;28;01mreturn\u001b[39;00m \u001b[43mprocess\u001b[49m\u001b[43m.\u001b[49m\u001b[43mget_process\u001b[49m\u001b[43m(\u001b[49m\u001b[43mpyngrok_config\u001b[49m\u001b[43m)\u001b[49m\n",
      "\u001b[36mFile \u001b[39m\u001b[32m~\\AppData\\Local\\Packages\\PythonSoftwareFoundation.Python.3.11_qbz5n2kfra8p0\\LocalCache\\local-packages\\Python311\\site-packages\\pyngrok\\process.py:270\u001b[39m, in \u001b[36mget_process\u001b[39m\u001b[34m(pyngrok_config)\u001b[39m\n\u001b[32m    267\u001b[39m \u001b[38;5;28;01mif\u001b[39;00m is_process_running(pyngrok_config.ngrok_path):\n\u001b[32m    268\u001b[39m     \u001b[38;5;28;01mreturn\u001b[39;00m _current_processes[pyngrok_config.ngrok_path]\n\u001b[32m--> \u001b[39m\u001b[32m270\u001b[39m \u001b[38;5;28;01mreturn\u001b[39;00m \u001b[43m_start_process\u001b[49m\u001b[43m(\u001b[49m\u001b[43mpyngrok_config\u001b[49m\u001b[43m)\u001b[49m\n",
      "\u001b[36mFile \u001b[39m\u001b[32m~\\AppData\\Local\\Packages\\PythonSoftwareFoundation.Python.3.11_qbz5n2kfra8p0\\LocalCache\\local-packages\\Python311\\site-packages\\pyngrok\\process.py:447\u001b[39m, in \u001b[36m_start_process\u001b[39m\u001b[34m(pyngrok_config)\u001b[39m\n\u001b[32m    444\u001b[39m kill_process(pyngrok_config.ngrok_path)\n\u001b[32m    446\u001b[39m \u001b[38;5;28;01mif\u001b[39;00m ngrok_process.startup_error \u001b[38;5;129;01mis\u001b[39;00m \u001b[38;5;129;01mnot\u001b[39;00m \u001b[38;5;28;01mNone\u001b[39;00m:\n\u001b[32m--> \u001b[39m\u001b[32m447\u001b[39m     \u001b[38;5;28;01mraise\u001b[39;00m PyngrokNgrokError(\u001b[33mf\u001b[39m\u001b[33m\"\u001b[39m\u001b[33mThe ngrok process errored on start: \u001b[39m\u001b[38;5;132;01m{\u001b[39;00mngrok_process.startup_error\u001b[38;5;132;01m}\u001b[39;00m\u001b[33m.\u001b[39m\u001b[33m\"\u001b[39m,\n\u001b[32m    448\u001b[39m                             ngrok_process.logs,\n\u001b[32m    449\u001b[39m                             ngrok_process.startup_error)\n\u001b[32m    450\u001b[39m \u001b[38;5;28;01melse\u001b[39;00m:\n\u001b[32m    451\u001b[39m     \u001b[38;5;28;01mraise\u001b[39;00m PyngrokNgrokError(\u001b[33m\"\u001b[39m\u001b[33mThe ngrok process was unable to start.\u001b[39m\u001b[33m\"\u001b[39m, ngrok_process.logs)\n",
      "\u001b[31mPyngrokNgrokError\u001b[39m: The ngrok process errored on start: authentication failed: Usage of ngrok requires a verified account and authtoken.\\n\\nSign up for an account: https://dashboard.ngrok.com/signup\\nInstall your authtoken: https://dashboard.ngrok.com/get-started/your-authtoken\\r\\n\\r\\nERR_NGROK_4018\\r\\n."
     ]
    }
   ],
   "source": [
    "\n",
    "ngrok.kill()\n",
    "!kill $(ps aux | grep streamlit | awk '{print $2}') 2>/dev/null\n",
    "\n",
    "public_url = ngrok.connect(8888)\n",
    "print(f\"🚀 Streamlit live di: {public_url}\")\n",
    "\n",
    "os.system(\"nohup streamlit run covid_dashboard.py &\")\n",
    "\n",
    "time.sleep(5)\n",
    "print(\"Streamlit udah jalan, coba buka link di atas!\")"
   ]
  }
 ],
 "metadata": {
  "kernelspec": {
   "display_name": "Python 3",
   "language": "python",
   "name": "python3"
  },
  "language_info": {
   "codemirror_mode": {
    "name": "ipython",
    "version": 3
   },
   "file_extension": ".py",
   "mimetype": "text/x-python",
   "name": "python",
   "nbconvert_exporter": "python",
   "pygments_lexer": "ipython3",
   "version": "3.11.9"
  },
  "orig_nbformat": 4
 },
 "nbformat": 4,
 "nbformat_minor": 2
}
