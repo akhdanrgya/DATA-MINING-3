{
 "cells": [
  {
   "attachments": {},
   "cell_type": "markdown",
   "metadata": {},
   "source": [
    "STUDI KASUS PRAKTIKUM 3\n",
    "\n",
    "    1. Bagaimana kita dapat memprediksi jumlah total kasus COVID-19 di suatu lokasi berdasarkan fitur-fitur seperti jumlah kematian, jumlah yang sembuh, densitas populasi, dan tingkat fatalitas kasus? (supervised learning)\n",
    "\n",
    "    2. Bagaimana kita dapat mengelompokkan lokasi-lokasi di Indonesia berdasarkan jumlah total kasus, jumlah kematian, jumlah yang sembuh, dan densitas populasi menggunakan metode clustering seperti KMeans? (unsupervised learning)"
   ]
  },
  {
   "attachments": {},
   "cell_type": "markdown",
   "metadata": {},
   "source": [
    "IMPORT MODUL"
   ]
  },
  {
   "cell_type": "code",
   "execution_count": 5,
   "metadata": {},
   "outputs": [],
   "source": [
    "import pandas as pd\n",
    "import matplotlib.pyplot as plt\n",
    "import seaborn as sns\n",
    "from sklearn.model_selection import train_test_split\n",
    "from sklearn.linear_model import LinearRegression\n",
    "from sklearn.metrics import r2_score, mean_squared_error\n",
    "from sklearn.preprocessing import StandardScaler\n",
    "from sklearn.cluster import KMeans\n",
    "\n",
    "from sklearn.ensemble import RandomForestRegressor\n",
    "import streamlit as st\n",
    "import plotly.express as px\n",
    "\n",
    "from pyngrok import ngrok\n",
    "import os\n",
    "import time\n"
   ]
  },
  {
   "attachments": {},
   "cell_type": "markdown",
   "metadata": {},
   "source": [
    "LOAD DATASET"
   ]
  },
  {
   "cell_type": "code",
   "execution_count": 6,
   "metadata": {},
   "outputs": [
    {
     "name": "stdout",
     "output_type": "stream",
     "text": [
      "Index(['Date', 'Location ISO Code', 'Location', 'New Cases', 'New Deaths',\n",
      "       'New Recovered', 'New Active Cases', 'Total Cases', 'Total Deaths',\n",
      "       'Total Recovered', 'Total Active Cases', 'Location Level',\n",
      "       'City or Regency', 'Province', 'Country', 'Continent', 'Island',\n",
      "       'Time Zone', 'Special Status', 'Total Regencies', 'Total Cities',\n",
      "       'Total Districts', 'Total Urban Villages', 'Total Rural Villages',\n",
      "       'Area (km2)', 'Population', 'Population Density', 'Longitude',\n",
      "       'Latitude', 'New Cases per Million', 'Total Cases per Million',\n",
      "       'New Deaths per Million', 'Total Deaths per Million',\n",
      "       'Total Deaths per 100rb', 'Case Fatality Rate', 'Case Recovered Rate',\n",
      "       'Growth Factor of New Cases', 'Growth Factor of New Deaths'],\n",
      "      dtype='object')\n"
     ]
    }
   ],
   "source": [
    "\n",
    "df = pd.read_csv(\"covid_19_indonesia_time_series_all.csv\")\n",
    "print(df.columns)\n",
    "data = df[['Date', 'Location ISO Code', 'Location', 'Total Cases', 'Total Deaths', 'Total Recovered', 'Population Density']]\n",
    "\n",
    "\n",
    "data = data.dropna()"
   ]
  },
  {
   "attachments": {},
   "cell_type": "markdown",
   "metadata": {},
   "source": [
    "    1. Bagaimana kita dapat memprediksi jumlah total kasus COVID-19 di suatu lokasi berdasarkan fitur-fitur seperti jumlah kematian, jumlah yang sembuh, densitas populasi, dan tingkat fatalitas kasus? (supervised learning)"
   ]
  },
  {
   "cell_type": "code",
   "execution_count": 7,
   "metadata": {},
   "outputs": [
    {
     "name": "stdout",
     "output_type": "stream",
     "text": [
      "Supervised Learning - Prediksi Total Cases\n",
      "MSE: 1027562235.23\n",
      "R-squared: 0.94\n"
     ]
    }
   ],
   "source": [
    "df = df[['Location', 'Total Cases', 'Total Deaths', 'Total Recovered', 'Population Density']]\n",
    "df.dropna(inplace=True)\n",
    "\n",
    "df['Fatality Rate'] = df['Total Deaths'] / df['Total Cases']\n",
    "\n",
    "\n",
    "data_loc = df.groupby('Location').mean()\n",
    "\n",
    "features = ['Total Deaths', 'Total Recovered', 'Population Density', 'Fatality Rate']\n",
    "X = data_loc[features]\n",
    "y = data_loc['Total Cases']\n",
    "\n",
    "\n",
    "X_train, X_test, y_train, y_test = train_test_split(X, y, test_size=0.3, random_state=42)\n",
    "\n",
    "\n",
    "model = RandomForestRegressor(random_state=42)\n",
    "model.fit(X_train, y_train)\n",
    "\n",
    "\n",
    "y_pred = model.predict(X_test)\n",
    "\n",
    "\n",
    "mse = mean_squared_error(y_test, y_pred)\n",
    "r2 = r2_score(y_test, y_pred)\n",
    "\n",
    "print(f\"Supervised Learning - Prediksi Total Cases\")\n",
    "print(f\"MSE: {mse:.2f}\")\n",
    "print(f\"R-squared: {r2:.2f}\")"
   ]
  },
  {
   "attachments": {},
   "cell_type": "markdown",
   "metadata": {},
   "source": [
    "    2. Bagaimana kita dapat mengelompokkan lokasi-lokasi di Indonesia berdasarkan jumlah total kasus, jumlah kematian, jumlah yang sembuh, dan densitas populasi menggunakan metode clustering seperti KMeans? (unsupervised learning)"
   ]
  },
  {
   "cell_type": "code",
   "execution_count": 8,
   "metadata": {},
   "outputs": [
    {
     "name": "stdout",
     "output_type": "stream",
     "text": [
      "Unsupervised Learning - Hasil Clustering Wilayah:\n",
      "               Total Cases  Total Deaths  Total Recovered  Population Density  \\\n",
      "Location                                                                        \n",
      "Aceh          22082.057522   1085.080752     19784.528761               90.54   \n",
      "Bali          72086.640914   2195.159956     67546.262242              729.43   \n",
      "Banten       108872.312771   1543.959957    103163.648268             1109.64   \n",
      "Bengkulu      13734.685206    270.363737     12950.609566              100.38   \n",
      "DKI Jakarta  587519.964478   8259.145318    566710.544672            16334.31   \n",
      "\n",
      "             Cluster  \n",
      "Location              \n",
      "Aceh               0  \n",
      "Bali               0  \n",
      "Banten             0  \n",
      "Bengkulu           0  \n",
      "DKI Jakarta        2  \n"
     ]
    }
   ],
   "source": [
    "df = df[['Location', 'Total Cases', 'Total Deaths', 'Total Recovered', 'Population Density']]\n",
    "df.dropna(inplace=True)\n",
    "\n",
    "\n",
    "data_loc = df.groupby('Location').mean()\n",
    "features = ['Total Cases', 'Total Deaths', 'Total Recovered', 'Population Density']\n",
    "\n",
    "\n",
    "scaler = StandardScaler()\n",
    "X_scaled = scaler.fit_transform(data_loc[features])\n",
    "\n",
    "kmeans = KMeans(n_clusters=4, random_state=42)\n",
    "data_loc['Cluster'] = kmeans.fit_predict(X_scaled)\n",
    "\n",
    "print(\"Unsupervised Learning - Hasil Clustering Wilayah:\")\n",
    "print(data_loc[['Total Cases', 'Total Deaths', 'Total Recovered', 'Population Density', 'Cluster']].head())"
   ]
  },
  {
   "cell_type": "code",
   "execution_count": 9,
   "metadata": {},
   "outputs": [
    {
     "name": "stdout",
     "output_type": "stream",
     "text": [
      "Writing covid_dashboard.py\n"
     ]
    }
   ],
   "source": [
    "import streamlit as st\n",
    "import pandas as pd\n",
    "import matplotlib.pyplot as plt\n",
    "from sklearn.preprocessing import StandardScaler\n",
    "from sklearn.cluster import KMeans\n",
    "import plotly.express as px\n",
    "\n",
    "st.set_page_config(page_title=\"COVID-19 Clustering Dashboard\", layout=\"wide\")\n",
    "st.title(\"Dashboard Klasterisasi COVID-19 - Modul 3\")\n",
    "\n",
    "@st.cache_data\n",
    "def load_data():\n",
    "    df = pd.read_csv(\"covid_19_indonesia_time_series_all.csv\")\n",
    "    return df\n",
    "\n",
    "df = load_data()\n",
    "\n",
    "# ambil kolom penting\n",
    "df = df[['Date', 'Location', 'Total Cases', 'Total Deaths', 'Total Recovered', 'Population Density']]\n",
    "df.dropna(inplace=True)\n",
    "\n",
    "# lokasi unik\n",
    "unique_locations = df['Location'].unique()\n",
    "selected_location = st.sidebar.selectbox(\"Pilih Lokasi\", unique_locations)\n",
    "location_data = df[df['Location'] == selected_location]\n",
    "\n",
    "# ========================== 📈 TREND LINE CHART =============================\n",
    "st.subheader(f\"📊 Tren Total Kasus di {selected_location}\")\n",
    "fig, ax = plt.subplots(figsize=(10, 4))\n",
    "daily_cases = location_data.groupby(\"Date\").sum(numeric_only=True)['Total Cases']\n",
    "daily_cases.plot(ax=ax, color='#FF9800')  # warna orange biar beda dari default\n",
    "ax.set_ylabel(\"Total Kasus\")\n",
    "ax.set_xlabel(\"Tanggal\")\n",
    "st.pyplot(fig)\n",
    "\n",
    "# ========================== 🤖 CLUSTERING =============================\n",
    "st.subheader(\"🔬 Klasterisasi Wilayah\")\n",
    "cluster_features = df.groupby(\"Location\")[['Total Cases', 'Total Deaths', 'Total Recovered', 'Population Density']].mean()\n",
    "\n",
    "scaler = StandardScaler()\n",
    "scaled_features = scaler.fit_transform(cluster_features)\n",
    "\n",
    "kmeans = KMeans(n_clusters=4, random_state=42, n_init='auto')\n",
    "clusters = kmeans.fit_predict(scaled_features)\n",
    "cluster_features['Cluster'] = clusters\n",
    "\n",
    "df_clustered = df.merge(cluster_features['Cluster'], on='Location')\n",
    "\n",
    "# ========================== 🗺️ MAP KOORDINAT =============================\n",
    "kordinat = pd.DataFrame({\n",
    "    'Location': [\n",
    "        'DKI Jakarta', 'Jawa Barat', 'Jawa Tengah', 'Jawa Timur',\n",
    "        'Bali', 'Sumatera Utara', 'Kalimantan Timur', 'Sulawesi Selatan'\n",
    "    ],\n",
    "    'lat': [\n",
    "        -6.2088, -6.9039, -7.1500, -7.2504,\n",
    "        -8.4095, 3.5952, 0.5383, -5.1477\n",
    "    ],\n",
    "    'lon': [\n",
    "        106.8456, 107.6186, 110.1403, 112.7688,\n",
    "        115.1889, 98.6722, 116.4194, 119.4327\n",
    "    ]\n",
    "})\n",
    "\n",
    "map_df = cluster_features.reset_index().merge(kordinat, on='Location')\n",
    "\n",
    "# ========================== 🗺️ SCATTER MAPBOX =============================\n",
    "st.subheader(\"🗺️ Peta Klaster Wilayah\")\n",
    "fig_map = px.scatter_mapbox(\n",
    "    map_df,\n",
    "    lat=\"lat\", lon=\"lon\",\n",
    "    hover_name=\"Location\",\n",
    "    color=\"Cluster\",\n",
    "    size=\"Total Cases\",\n",
    "    zoom=4,\n",
    "    height=500,\n",
    "    mapbox_style=\"carto-positron\",\n",
    "    color_discrete_sequence=[\"#E91E63\", \"#3F51B5\", \"#009688\", \"#FF9800\"]  # warna custom: pink, biru, hijau, orange\n",
    ")\n",
    "st.plotly_chart(fig_map, use_container_width=True)\n",
    "\n",
    "# ========================== 📋 RINGKASAN =============================\n",
    "st.subheader(\"📋 Ringkasan Risiko per Klaster\")\n",
    "st.dataframe(cluster_features.sort_values(\"Cluster\"))\n"
   ]
  }
 ],
 "metadata": {
  "kernelspec": {
   "display_name": "Python 3",
   "language": "python",
   "name": "python3"
  },
  "language_info": {
   "codemirror_mode": {
    "name": "ipython",
    "version": 3
   },
   "file_extension": ".py",
   "mimetype": "text/x-python",
   "name": "python",
   "nbconvert_exporter": "python",
   "pygments_lexer": "ipython3",
   "version": "3.11.9"
  },
  "orig_nbformat": 4
 },
 "nbformat": 4,
 "nbformat_minor": 2
}
